from scipy.sparse import csr_matrix
import polars as pl
import implicit
import matplotlib.pyplot as plt


train = pl.scan_parquet("train_interactions.parquet")


train = train.with_columns(weight=pl.col("like") - pl.col("dislike"))
train


train = train.select("user_id", "item_id","timespent", "share", "weight")
train


train = train.collect()
train


train = train.sql("""
  SELECT * 
  FROM self
  WHERE weight <= 1
""")
train['weight'].value_counts()


import seaborn as sns

# Построение гистограммы с использованием seaborn
plt.figure(figsize=(10, 6))
sns.histplot(x='timespent', data = train.sample(9999999).sql("""
  SELECT * FROM self WHERE timespent < 150 ORDER BY timespent DESC 
"""), binwidth=3, hue = 'weight', palette = 'Accent', multiple="stack")

plt.xlabel("time_of_view")
plt.ylabel("Count")
plt.title("Distribution of Counts Across Categories")
plt.show()









items_meta = pl.read_parquet("items_meta.parquet")
users_meta = pl.read_parquet("users_meta.parquet")
n_items = items_meta["item_id"].max() + 1
n_users = users_meta["user_id"].max() + 1

#нужно посчитать соотношение лайков дизлайков у каждого пользователя и видео


#train = csr_matrix((train["weight"], 
                   # (train["user_id"].to_numpy(), 
                   # train["item_id"].to_numpy())),
                   #shape=(n_users, n_items))


#model = implicit.als.AlternatingLeastSquares(factors=16, 
                                           #  iterations=10, 
                                           #  regularization=1, 
                                           #  alpha=100,
                                           #  calculate_training_loss=True)
#model.fit(train)


#test_pairs = pl.read_csv('test_pairs.csv')
#test_pairs


#als_predict = (model.user_factors[test_pairs['user_id']] * 
#               model.item_factors[test_pairs['item_id']]).sum(axis=1)


#test_pairs.with_columns(predict=als_predict).write_csv('sample_submission.csv')






