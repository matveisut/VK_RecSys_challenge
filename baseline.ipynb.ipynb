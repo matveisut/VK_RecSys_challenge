{
 "cells": [
  {
   "cell_type": "code",
   "execution_count": 4,
   "metadata": {},
   "outputs": [],
   "source": [
    "from scipy.sparse import csr_matrix\n",
    "import polars as pl\n",
    "import implicit\n",
    "import matplotlib.pyplot as plt"
   ]
  },
  {
   "cell_type": "code",
   "execution_count": 55,
   "metadata": {},
   "outputs": [
    {
     "data": {
      "text/html": [
       "<i>naive plan: (run <b>LazyFrame.explain(optimized=True)</b> to see the optimized plan)</i>\n",
       "    <p></p>\n",
       "    <div>Parquet SCAN [../train_interactions.parquet]<p></p>PROJECT */7 COLUMNS</div>"
      ],
      "text/plain": [
       "<LazyFrame at 0x1A410C27380>"
      ]
     },
     "execution_count": 55,
     "metadata": {},
     "output_type": "execute_result"
    }
   ],
   "source": [
    "train = pl.scan_parquet(\"../train_interactions.parquet\")"
   ]
  },
  {
   "cell_type": "code",
   "execution_count": 6,
   "metadata": {},
   "outputs": [
    {
     "data": {
      "text/html": [
       "<i>naive plan: (run <b>LazyFrame.explain(optimized=True)</b> to see the optimized plan)</i>\n",
       "    <p></p>\n",
       "    <div> WITH_COLUMNS:<p></p> [[(col(\"like\")) - (col(\"dislike\"))].alias(\"weight\")] <p></p>  Parquet SCAN [../train_interactions.parquet]<p></p>  PROJECT */7 COLUMNS</div>"
      ],
      "text/plain": [
       "<LazyFrame at 0x1A30D5F7C50>"
      ]
     },
     "execution_count": 6,
     "metadata": {},
     "output_type": "execute_result"
    }
   ],
   "source": [
    "train = train.with_columns(weight=pl.col(\"like\") - pl.col(\"dislike\"))\n",
    "train"
   ]
  },
  {
   "cell_type": "code",
   "execution_count": 7,
   "metadata": {},
   "outputs": [
    {
     "data": {
      "text/html": [
       "<i>naive plan: (run <b>LazyFrame.explain(optimized=True)</b> to see the optimized plan)</i>\n",
       "    <p></p>\n",
       "    <div> SELECT [col(\"user_id\"), col(\"item_id\"), col(\"timespent\"), col(\"share\"), col(\"bookmarks\"), col(\"weight\")] FROM<p></p>   WITH_COLUMNS:<p></p>   [[(col(\"like\")) - (col(\"dislike\"))].alias(\"weight\")] <p></p>    Parquet SCAN [../train_interactions.parquet]<p></p>    PROJECT */7 COLUMNS</div>"
      ],
      "text/plain": [
       "<LazyFrame at 0x1A30D74D1C0>"
      ]
     },
     "execution_count": 7,
     "metadata": {},
     "output_type": "execute_result"
    }
   ],
   "source": [
    "train = train.select(\"user_id\", \"item_id\",\"timespent\", \"share\", \"bookmarks\",\"weight\")\n",
    "train"
   ]
  },
  {
   "cell_type": "code",
   "execution_count": 8,
   "metadata": {},
   "outputs": [
    {
     "data": {
      "text/html": [
       "<div><style>\n",
       ".dataframe > thead > tr,\n",
       ".dataframe > tbody > tr {\n",
       "  text-align: right;\n",
       "  white-space: pre-wrap;\n",
       "}\n",
       "</style>\n",
       "<small>shape: (2, 2)</small><table border=\"1\" class=\"dataframe\"><thead><tr><th>weight</th><th>count</th></tr><tr><td>u8</td><td>u32</td></tr></thead><tbody><tr><td>0</td><td>138821753</td></tr><tr><td>1</td><td>6788267</td></tr></tbody></table></div>"
      ],
      "text/plain": [
       "shape: (2, 2)\n",
       "┌────────┬───────────┐\n",
       "│ weight ┆ count     │\n",
       "│ ---    ┆ ---       │\n",
       "│ u8     ┆ u32       │\n",
       "╞════════╪═══════════╡\n",
       "│ 0      ┆ 138821753 │\n",
       "│ 1      ┆ 6788267   │\n",
       "└────────┴───────────┘"
      ]
     },
     "execution_count": 8,
     "metadata": {},
     "output_type": "execute_result"
    }
   ],
   "source": [
    "train = train.collect()\n",
    "train\n",
    "\n",
    "train = train.sql(\"\"\"\n",
    "  SELECT * \n",
    "  FROM self\n",
    "  WHERE weight <= 1\n",
    "\"\"\")\n",
    "train['weight'].value_counts()"
   ]
  },
  {
   "cell_type": "code",
   "execution_count": 9,
   "metadata": {},
   "outputs": [
    {
     "name": "stderr",
     "output_type": "stream",
     "text": [
      "C:\\Users\\matvei\\AppData\\Local\\Temp\\ipykernel_14780\\2474459573.py:2: DeprecationWarning: `GroupBy.count` is deprecated. It has been renamed to `len`.\n",
      "  b = train.group_by(['item_id']).count().sort('item_id')\n"
     ]
    }
   ],
   "source": [
    "a = train.group_by(['item_id']).agg(pl.col(\"weight\").sum()).sort('item_id')\n",
    "b = train.group_by(['item_id']).count().sort('item_id')\n",
    "a = a.with_columns((a[a.columns[1]] / b[b.columns[1]]).alias('like_rate'))\n"
   ]
  },
  {
   "cell_type": "code",
   "execution_count": 10,
   "metadata": {},
   "outputs": [],
   "source": [
    "like_rate = a.drop(['weight'])"
   ]
  },
  {
   "cell_type": "code",
   "execution_count": 11,
   "metadata": {},
   "outputs": [
    {
     "data": {
      "text/html": [
       "<div><style>\n",
       ".dataframe > thead > tr,\n",
       ".dataframe > tbody > tr {\n",
       "  text-align: right;\n",
       "  white-space: pre-wrap;\n",
       "}\n",
       "</style>\n",
       "<small>shape: (145_610_020, 6)</small><table border=\"1\" class=\"dataframe\"><thead><tr><th>user_id</th><th>item_id</th><th>timespent</th><th>share</th><th>bookmarks</th><th>weight</th></tr><tr><td>u32</td><td>u32</td><td>u8</td><td>u8</td><td>u8</td><td>u8</td></tr></thead><tbody><tr><td>3810</td><td>138979</td><td>6</td><td>0</td><td>0</td><td>0</td></tr><tr><td>101874</td><td>331160</td><td>6</td><td>0</td><td>0</td><td>0</td></tr><tr><td>150332</td><td>73709</td><td>11</td><td>0</td><td>0</td><td>0</td></tr><tr><td>4982</td><td>189745</td><td>5</td><td>0</td><td>0</td><td>0</td></tr><tr><td>149601</td><td>289643</td><td>1</td><td>1</td><td>0</td><td>0</td></tr><tr><td>&hellip;</td><td>&hellip;</td><td>&hellip;</td><td>&hellip;</td><td>&hellip;</td><td>&hellip;</td></tr><tr><td>10718</td><td>93558</td><td>7</td><td>0</td><td>0</td><td>0</td></tr><tr><td>119164</td><td>60206</td><td>60</td><td>0</td><td>0</td><td>0</td></tr><tr><td>171518</td><td>99323</td><td>70</td><td>0</td><td>0</td><td>0</td></tr><tr><td>109533</td><td>74203</td><td>1</td><td>0</td><td>0</td><td>0</td></tr><tr><td>129851</td><td>138079</td><td>15</td><td>0</td><td>0</td><td>0</td></tr></tbody></table></div>"
      ],
      "text/plain": [
       "shape: (145_610_020, 6)\n",
       "┌─────────┬─────────┬───────────┬───────┬───────────┬────────┐\n",
       "│ user_id ┆ item_id ┆ timespent ┆ share ┆ bookmarks ┆ weight │\n",
       "│ ---     ┆ ---     ┆ ---       ┆ ---   ┆ ---       ┆ ---    │\n",
       "│ u32     ┆ u32     ┆ u8        ┆ u8    ┆ u8        ┆ u8     │\n",
       "╞═════════╪═════════╪═══════════╪═══════╪═══════════╪════════╡\n",
       "│ 3810    ┆ 138979  ┆ 6         ┆ 0     ┆ 0         ┆ 0      │\n",
       "│ 101874  ┆ 331160  ┆ 6         ┆ 0     ┆ 0         ┆ 0      │\n",
       "│ 150332  ┆ 73709   ┆ 11        ┆ 0     ┆ 0         ┆ 0      │\n",
       "│ 4982    ┆ 189745  ┆ 5         ┆ 0     ┆ 0         ┆ 0      │\n",
       "│ 149601  ┆ 289643  ┆ 1         ┆ 1     ┆ 0         ┆ 0      │\n",
       "│ …       ┆ …       ┆ …         ┆ …     ┆ …         ┆ …      │\n",
       "│ 10718   ┆ 93558   ┆ 7         ┆ 0     ┆ 0         ┆ 0      │\n",
       "│ 119164  ┆ 60206   ┆ 60        ┆ 0     ┆ 0         ┆ 0      │\n",
       "│ 171518  ┆ 99323   ┆ 70        ┆ 0     ┆ 0         ┆ 0      │\n",
       "│ 109533  ┆ 74203   ┆ 1         ┆ 0     ┆ 0         ┆ 0      │\n",
       "│ 129851  ┆ 138079  ┆ 15        ┆ 0     ┆ 0         ┆ 0      │\n",
       "└─────────┴─────────┴───────────┴───────┴───────────┴────────┘"
      ]
     },
     "execution_count": 11,
     "metadata": {},
     "output_type": "execute_result"
    }
   ],
   "source": [
    "train"
   ]
  },
  {
   "cell_type": "code",
   "execution_count": 12,
   "metadata": {},
   "outputs": [
    {
     "name": "stderr",
     "output_type": "stream",
     "text": [
      "C:\\Users\\matvei\\AppData\\Local\\Temp\\ipykernel_14780\\294690176.py:2: DeprecationWarning: `GroupBy.count` is deprecated. It has been renamed to `len`.\n",
      "  b = train.group_by(['user_id']).count().sort('user_id')\n"
     ]
    }
   ],
   "source": [
    "a = train.group_by(['user_id']).agg(pl.col(\"weight\").sum()).sort('user_id')\n",
    "b = train.group_by(['user_id']).count().sort('user_id')\n",
    "a = a.with_columns((a[a.columns[1]] / b[b.columns[1]]).alias('like_rate_user'))\n"
   ]
  },
  {
   "cell_type": "code",
   "execution_count": 13,
   "metadata": {},
   "outputs": [],
   "source": [
    "like_rate_user = a.drop(['weight'])"
   ]
  },
  {
   "cell_type": "code",
   "execution_count": 14,
   "metadata": {},
   "outputs": [
    {
     "data": {
      "text/html": [
       "<div><style>\n",
       ".dataframe > thead > tr,\n",
       ".dataframe > tbody > tr {\n",
       "  text-align: right;\n",
       "  white-space: pre-wrap;\n",
       "}\n",
       "</style>\n",
       "<small>shape: (183_404, 2)</small><table border=\"1\" class=\"dataframe\"><thead><tr><th>user_id</th><th>like_rate_user</th></tr><tr><td>u32</td><td>f64</td></tr></thead><tbody><tr><td>0</td><td>0.067935</td></tr><tr><td>1</td><td>0.064039</td></tr><tr><td>2</td><td>0.047244</td></tr><tr><td>3</td><td>0.0</td></tr><tr><td>4</td><td>0.0</td></tr><tr><td>&hellip;</td><td>&hellip;</td></tr><tr><td>183399</td><td>0.00122</td></tr><tr><td>183400</td><td>0.000803</td></tr><tr><td>183401</td><td>0.378257</td></tr><tr><td>183402</td><td>0.162162</td></tr><tr><td>183403</td><td>0.005959</td></tr></tbody></table></div>"
      ],
      "text/plain": [
       "shape: (183_404, 2)\n",
       "┌─────────┬────────────────┐\n",
       "│ user_id ┆ like_rate_user │\n",
       "│ ---     ┆ ---            │\n",
       "│ u32     ┆ f64            │\n",
       "╞═════════╪════════════════╡\n",
       "│ 0       ┆ 0.067935       │\n",
       "│ 1       ┆ 0.064039       │\n",
       "│ 2       ┆ 0.047244       │\n",
       "│ 3       ┆ 0.0            │\n",
       "│ 4       ┆ 0.0            │\n",
       "│ …       ┆ …              │\n",
       "│ 183399  ┆ 0.00122        │\n",
       "│ 183400  ┆ 0.000803       │\n",
       "│ 183401  ┆ 0.378257       │\n",
       "│ 183402  ┆ 0.162162       │\n",
       "│ 183403  ┆ 0.005959       │\n",
       "└─────────┴────────────────┘"
      ]
     },
     "execution_count": 14,
     "metadata": {},
     "output_type": "execute_result"
    }
   ],
   "source": [
    "like_rate_user"
   ]
  },
  {
   "cell_type": "code",
   "execution_count": 15,
   "metadata": {},
   "outputs": [],
   "source": [
    "#train.filter(pl.col('item_id') == 35966)['weight'].sum()/2741"
   ]
  },
  {
   "cell_type": "code",
   "execution_count": 16,
   "metadata": {},
   "outputs": [],
   "source": [
    "#train.filter(pl.col('item_id') == 91457).count()"
   ]
  },
  {
   "cell_type": "code",
   "execution_count": 17,
   "metadata": {},
   "outputs": [
    {
     "data": {
      "text/html": [
       "<div><style>\n",
       ".dataframe > thead > tr,\n",
       ".dataframe > tbody > tr {\n",
       "  text-align: right;\n",
       "  white-space: pre-wrap;\n",
       "}\n",
       "</style>\n",
       "<small>shape: (2, 2)</small><table border=\"1\" class=\"dataframe\"><thead><tr><th>weight</th><th>count</th></tr><tr><td>u8</td><td>u32</td></tr></thead><tbody><tr><td>0</td><td>138821753</td></tr><tr><td>1</td><td>6788267</td></tr></tbody></table></div>"
      ],
      "text/plain": [
       "shape: (2, 2)\n",
       "┌────────┬───────────┐\n",
       "│ weight ┆ count     │\n",
       "│ ---    ┆ ---       │\n",
       "│ u8     ┆ u32       │\n",
       "╞════════╪═══════════╡\n",
       "│ 0      ┆ 138821753 │\n",
       "│ 1      ┆ 6788267   │\n",
       "└────────┴───────────┘"
      ]
     },
     "execution_count": 17,
     "metadata": {},
     "output_type": "execute_result"
    }
   ],
   "source": [
    "train['weight'].value_counts()"
   ]
  },
  {
   "cell_type": "code",
   "execution_count": 18,
   "metadata": {},
   "outputs": [
    {
     "data": {
      "image/png": "[encoded data removed]",
      "text/plain": [
       "<Figure size 1000x600 with 1 Axes>"
      ]
     },
     "metadata": {},
     "output_type": "display_data"
    },
    {
     "data": {
      "image/png": "[encoded data removed]",
      "text/plain": [
       "<Figure size 1000x600 with 2 Axes>"
      ]
     },
     "metadata": {},
     "output_type": "display_data"
    }
   ],
   "source": [
    "import seaborn as sns\n",
    "\n",
    "sample = train.sample(999999).sql(\"\"\"\n",
    "  SELECT * FROM self WHERE timespent < 150 ORDER BY timespent DESC \n",
    "\"\"\")\n",
    "\n",
    "# Построение гистограммы с использованием seaborn\n",
    "plt.figure(figsize=(10, 6))\n",
    "sns.histplot(x='timespent', data = sample, binwidth=3, hue = 'weight', palette = 'Accent', multiple=\"stack\")\n",
    "\n",
    "plt.xlabel(\"time_of_view\")\n",
    "plt.ylabel(\"Count\")\n",
    "plt.title(\"Distribution of Counts Across Categories\")\n",
    "plt.show()\n",
    "\n",
    "plt.figure(figsize=(10, 6))\n",
    "plt.subplot(1, 2, 1)\n",
    "sns.histplot(x='timespent', data = sample, binwidth=3, hue = 'bookmarks', palette = 'Accent', multiple=\"stack\")\n",
    "plt.subplot(1, 2, 2)\n",
    "sns.histplot(x='timespent', data = sample, binwidth=3, hue = 'share', palette = 'Accent', multiple=\"stack\")\n",
    "plt.show()"
   ]
  },
  {
   "cell_type": "code",
   "execution_count": null,
   "metadata": {},
   "outputs": [],
   "source": [
    "\n"
   ]
  },
  {
   "cell_type": "code",
   "execution_count": null,
   "metadata": {},
   "outputs": [],
   "source": []
  },
  {
   "cell_type": "code",
   "execution_count": 19,
   "metadata": {},
   "outputs": [],
   "source": [
    "items_meta = pl.read_parquet(\"items_meta.parquet\")\n",
    "users_meta = pl.read_parquet(\"users_meta.parquet\")\n",
    "n_items = items_meta[\"item_id\"].max() + 1\n",
    "n_users = users_meta[\"user_id\"].max() + 1\n",
    "\n",
    "#нужно посчитать соотношение лайков дизлайков у каждого пользователя и видео"
   ]
  },
  {
   "cell_type": "code",
   "execution_count": 20,
   "metadata": {},
   "outputs": [
    {
     "data": {
      "text/plain": [
       "337727"
      ]
     },
     "execution_count": 20,
     "metadata": {},
     "output_type": "execute_result"
    }
   ],
   "source": [
    "n_items"
   ]
  },
  {
   "cell_type": "code",
   "execution_count": 21,
   "metadata": {},
   "outputs": [
    {
     "data": {
      "text/plain": [
       "183404"
      ]
     },
     "execution_count": 21,
     "metadata": {},
     "output_type": "execute_result"
    }
   ],
   "source": [
    "n_users"
   ]
  },
  {
   "cell_type": "code",
   "execution_count": 22,
   "metadata": {},
   "outputs": [
    {
     "data": {
      "text/plain": [
       "<Axes: xlabel='age', ylabel='Count'>"
      ]
     },
     "execution_count": 22,
     "metadata": {},
     "output_type": "execute_result"
    },
    {
     "data": {
      "image/png": "[encoded data removed]",
      "text/plain": [
       "<Figure size 1000x600 with 1 Axes>"
      ]
     },
     "metadata": {},
     "output_type": "display_data"
    }
   ],
   "source": [
    "plt.figure(figsize=(10, 6))\n",
    "sns.histplot(x='age', data = users_meta, binwidth=2, hue = 'gender', palette = 'Accent', multiple=\"stack\")"
   ]
  },
  {
   "cell_type": "code",
   "execution_count": 23,
   "metadata": {},
   "outputs": [
    {
     "data": {
      "text/html": [
       "<div><style>\n",
       ".dataframe > thead > tr,\n",
       ".dataframe > tbody > tr {\n",
       "  text-align: right;\n",
       "  white-space: pre-wrap;\n",
       "}\n",
       "</style>\n",
       "<small>shape: (183_404, 4)</small><table border=\"1\" class=\"dataframe\"><thead><tr><th>user_id</th><th>gender</th><th>age</th><th>like_rate_user</th></tr><tr><td>u32</td><td>u8</td><td>u8</td><td>f64</td></tr></thead><tbody><tr><td>0</td><td>2</td><td>35</td><td>0.067935</td></tr><tr><td>1</td><td>2</td><td>35</td><td>0.064039</td></tr><tr><td>2</td><td>1</td><td>38</td><td>0.047244</td></tr><tr><td>3</td><td>1</td><td>36</td><td>0.0</td></tr><tr><td>4</td><td>2</td><td>39</td><td>0.0</td></tr><tr><td>&hellip;</td><td>&hellip;</td><td>&hellip;</td><td>&hellip;</td></tr><tr><td>183399</td><td>2</td><td>19</td><td>0.00122</td></tr><tr><td>183400</td><td>1</td><td>20</td><td>0.000803</td></tr><tr><td>183401</td><td>2</td><td>29</td><td>0.378257</td></tr><tr><td>183402</td><td>1</td><td>43</td><td>0.162162</td></tr><tr><td>183403</td><td>1</td><td>29</td><td>0.005959</td></tr></tbody></table></div>"
      ],
      "text/plain": [
       "shape: (183_404, 4)\n",
       "┌─────────┬────────┬─────┬────────────────┐\n",
       "│ user_id ┆ gender ┆ age ┆ like_rate_user │\n",
       "│ ---     ┆ ---    ┆ --- ┆ ---            │\n",
       "│ u32     ┆ u8     ┆ u8  ┆ f64            │\n",
       "╞═════════╪════════╪═════╪════════════════╡\n",
       "│ 0       ┆ 2      ┆ 35  ┆ 0.067935       │\n",
       "│ 1       ┆ 2      ┆ 35  ┆ 0.064039       │\n",
       "│ 2       ┆ 1      ┆ 38  ┆ 0.047244       │\n",
       "│ 3       ┆ 1      ┆ 36  ┆ 0.0            │\n",
       "│ 4       ┆ 2      ┆ 39  ┆ 0.0            │\n",
       "│ …       ┆ …      ┆ …   ┆ …              │\n",
       "│ 183399  ┆ 2      ┆ 19  ┆ 0.00122        │\n",
       "│ 183400  ┆ 1      ┆ 20  ┆ 0.000803       │\n",
       "│ 183401  ┆ 2      ┆ 29  ┆ 0.378257       │\n",
       "│ 183402  ┆ 1      ┆ 43  ┆ 0.162162       │\n",
       "│ 183403  ┆ 1      ┆ 29  ┆ 0.005959       │\n",
       "└─────────┴────────┴─────┴────────────────┘"
      ]
     },
     "execution_count": 23,
     "metadata": {},
     "output_type": "execute_result"
    }
   ],
   "source": [
    "items_meta = items_meta.with_columns( like_rate['like_rate'].alias('like_rate'))\n",
    "users_meta = users_meta.with_columns( like_rate_user['like_rate_user'].alias('like_rate_user'))\n",
    "users_meta"
   ]
  },
  {
   "cell_type": "code",
   "execution_count": 46,
   "metadata": {},
   "outputs": [],
   "source": [
    "train_with_user_rate = train.join(users_meta, on=\"user_id\", how = 'left')"
   ]
  },
  {
   "cell_type": "code",
   "execution_count": 48,
   "metadata": {},
   "outputs": [],
   "source": [
    "train_with_user_rate_with_item_rate = train_with_user_rate.join(items_meta, on=\"item_id\", how = 'left')"
   ]
  },
  {
   "cell_type": "code",
   "execution_count": 67,
   "metadata": {},
   "outputs": [],
   "source": [
    "train_with_user_rate_with_item_rate = train_with_user_rate_with_item_rate.with_columns( mult_like_rate = train_with_user_rate_with_item_rate['like_rate_user'] * train_with_user_rate_with_item_rate['like_rate'])"
   ]
  },
  {
   "cell_type": "code",
   "execution_count": 69,
   "metadata": {},
   "outputs": [],
   "source": [
    "X = train_with_user_rate_with_item_rate['mult_like_rate']\n",
    "y = train_with_user_rate_with_item_rate['weight']"
   ]
  },
  {
   "cell_type": "code",
   "execution_count": null,
   "metadata": {},
   "outputs": [],
   "source": [
    "clf = CatBoostClassifier()"
   ]
  },
  {
   "cell_type": "code",
   "execution_count": 48,
   "metadata": {},
   "outputs": [],
   "source": [
    "#train = csr_matrix((train[\"weight\"], \n",
    "#                    (train[\"user_id\"].to_numpy(), \n",
    "#                    train[\"item_id\"].to_numpy())),\n",
    "#                   shape=(n_users, n_items))"
   ]
  },
  {
   "cell_type": "code",
   "execution_count": null,
   "metadata": {},
   "outputs": [],
   "source": []
  },
  {
   "cell_type": "code",
   "execution_count": null,
   "metadata": {},
   "outputs": [],
   "source": []
  },
  {
   "cell_type": "code",
   "execution_count": null,
   "metadata": {
    "scrolled": true
   },
   "outputs": [
    {
     "name": "stderr",
     "output_type": "stream",
     "text": [
      "C:\\Users\\matvei\\AppData\\Roaming\\Python\\Python312\\site-packages\\implicit\\cpu\\als.py:95: RuntimeWarning: Intel MKL BLAS is configured to use 4 threads. It is highly recommended to disable its internal threadpool by setting the environment variable 'MKL_NUM_THREADS=1' or by callng 'threadpoolctl.threadpool_limits(1, \"blas\")'. Having MKL use a threadpool can lead to severe performance issues\n",
      "  check_blas_config()\n"
     ]
    },
    {
     "data": {
      "application/vnd.jupyter.widget-view+json": {
       "model_id": "72ece924322f4c2893a1eb8ce54f231d",
       "version_major": 2,
       "version_minor": 0
      },
      "text/plain": [
       "  0%|          | 0/10 [00:00<?, ?it/s]"
      ]
     },
     "metadata": {},
     "output_type": "display_data"
    }
   ],
   "source": [
    "#model = implicit.als.AlternatingLeastSquares(factors=16, \n",
    "#                                             iterations=10, \n",
    "#                                             regularization=1, \n",
    "#                                             alpha=100,\n",
    "#                                             calculate_training_loss=True)\n",
    "#model.fit(train)"
   ]
  },
  {
   "cell_type": "code",
   "execution_count": 71,
   "metadata": {},
   "outputs": [
    {
     "data": {
      "text/html": [
       "<div><style>\n",
       ".dataframe > thead > tr,\n",
       ".dataframe > tbody > tr {\n",
       "  text-align: right;\n",
       "  white-space: pre-wrap;\n",
       "}\n",
       "</style>\n",
       "<small>shape: (1_655_120, 2)</small><table border=\"1\" class=\"dataframe\"><thead><tr><th>user_id</th><th>item_id</th></tr><tr><td>i64</td><td>i64</td></tr></thead><tbody><tr><td>1</td><td>7363</td></tr><tr><td>1</td><td>73770</td></tr><tr><td>1</td><td>75700</td></tr><tr><td>1</td><td>81204</td></tr><tr><td>1</td><td>110249</td></tr><tr><td>&hellip;</td><td>&hellip;</td></tr><tr><td>183403</td><td>235097</td></tr><tr><td>183403</td><td>267411</td></tr><tr><td>183403</td><td>273646</td></tr><tr><td>183403</td><td>288305</td></tr><tr><td>183403</td><td>322029</td></tr></tbody></table></div>"
      ],
      "text/plain": [
       "shape: (1_655_120, 2)\n",
       "┌─────────┬─────────┐\n",
       "│ user_id ┆ item_id │\n",
       "│ ---     ┆ ---     │\n",
       "│ i64     ┆ i64     │\n",
       "╞═════════╪═════════╡\n",
       "│ 1       ┆ 7363    │\n",
       "│ 1       ┆ 73770   │\n",
       "│ 1       ┆ 75700   │\n",
       "│ 1       ┆ 81204   │\n",
       "│ 1       ┆ 110249  │\n",
       "│ …       ┆ …       │\n",
       "│ 183403  ┆ 235097  │\n",
       "│ 183403  ┆ 267411  │\n",
       "│ 183403  ┆ 273646  │\n",
       "│ 183403  ┆ 288305  │\n",
       "│ 183403  ┆ 322029  │\n",
       "└─────────┴─────────┘"
      ]
     },
     "execution_count": 71,
     "metadata": {},
     "output_type": "execute_result"
    }
   ],
   "source": [
    "\n",
    "\n",
    "test_pairs = pl.read_csv('test_pairs.csv')\n",
    "test_pairs"
   ]
  },
  {
   "cell_type": "code",
   "execution_count": null,
   "metadata": {},
   "outputs": [],
   "source": [
    "als_predict = (model.user_factors[test_pairs['user_id']] * \n",
    "               model.item_factors[test_pairs['item_id']]).sum(axis=1)"
   ]
  },
  {
   "cell_type": "code",
   "execution_count": null,
   "metadata": {},
   "outputs": [],
   "source": [
    "test_pairs.with_columns(predict=als_predict).write_csv('sample_submission.csv')"
   ]
  },
  {
   "cell_type": "code",
   "execution_count": null,
   "metadata": {},
   "outputs": [],
   "source": []
  },
  {
   "cell_type": "code",
   "execution_count": null,
   "metadata": {},
   "outputs": [],
   "source": []
  }
 ],
 "metadata": {
  "kernelspec": {
   "display_name": "Python 3 (ipykernel)",
   "language": "python",
   "name": "python3"
  },
  "language_info": {
   "codemirror_mode": {
    "name": "ipython",
    "version": 3
   },
   "file_extension": ".py",
   "mimetype": "text/x-python",
   "name": "python",
   "nbconvert_exporter": "python",
   "pygments_lexer": "ipython3",
   "version": "3.12.7"
  }
 },
 "nbformat": 4,
 "nbformat_minor": 4
}
