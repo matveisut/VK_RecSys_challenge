{
 "cells": [
  {
   "cell_type": "code",
   "execution_count": 2,
   "metadata": {},
   "outputs": [],
   "source": [
    "from scipy.sparse import csr_matrix\n",
    "import polars as pl\n",
    "import implicit"
   ]
  },
  {
   "cell_type": "code",
   "execution_count": 4,
   "metadata": {},
   "outputs": [],
   "source": [
    "train = pl.scan_parquet(\"../train_interactions.parquet\")\n",
    "train = train.filter((pl.col(\"like\") + pl.col(\"dislike\")) >= 1)\n",
    "train = train.with_columns(weight=pl.col(\"like\") - pl.col(\"dislike\"))\n",
    "train = train.select(\"user_id\", \"item_id\", \"weight\")"
   ]
  },
  {
   "cell_type": "code",
   "execution_count": 6,
   "metadata": {},
   "outputs": [],
   "source": [
    "train = train.collect()"
   ]
  },
  {
   "cell_type": "code",
   "execution_count": 8,
   "metadata": {},
   "outputs": [],
   "source": [
    "items_meta = pl.read_parquet(\"items_meta.parquet\")\n",
    "users_meta = pl.read_parquet(\"users_meta.parquet\")\n",
    "n_items = items_meta[\"item_id\"].max() + 1\n",
    "n_users = users_meta[\"user_id\"].max() + 1"
   ]
  },
  {
   "cell_type": "code",
   "execution_count": 10,
   "metadata": {},
   "outputs": [],
   "source": [
    "train = csr_matrix((train[\"weight\"], \n",
    "                    (train[\"user_id\"].to_numpy(), \n",
    "                     train[\"item_id\"].to_numpy())),\n",
    "                   shape=(n_users, n_items))"
   ]
  },
  {
   "cell_type": "code",
   "execution_count": 12,
   "metadata": {},
   "outputs": [
    {
     "name": "stderr",
     "output_type": "stream",
     "text": [
      "C:\\Users\\matvei\\AppData\\Roaming\\Python\\Python312\\site-packages\\implicit\\cpu\\als.py:95: RuntimeWarning: Intel MKL BLAS is configured to use 4 threads. It is highly recommended to disable its internal threadpool by setting the environment variable 'MKL_NUM_THREADS=1' or by callng 'threadpoolctl.threadpool_limits(1, \"blas\")'. Having MKL use a threadpool can lead to severe performance issues\n",
      "  check_blas_config()\n"
     ]
    },
    {
     "data": {
      "application/vnd.jupyter.widget-view+json": {
       "model_id": "289d2691398f4b239fb0176bc65fad7a",
       "version_major": 2,
       "version_minor": 0
      },
      "text/plain": [
       "  0%|          | 0/10 [00:00<?, ?it/s]"
      ]
     },
     "metadata": {},
     "output_type": "display_data"
    }
   ],
   "source": [
    "model = implicit.als.AlternatingLeastSquares(factors=16, \n",
    "                                             iterations=10, \n",
    "                                             regularization=1, \n",
    "                                             alpha=100,\n",
    "                                             calculate_training_loss=True)\n",
    "model.fit(train)"
   ]
  },
  {
   "cell_type": "code",
   "execution_count": 14,
   "metadata": {},
   "outputs": [
    {
     "data": {
      "text/html": [
       "<div><style>\n",
       ".dataframe > thead > tr,\n",
       ".dataframe > tbody > tr {\n",
       "  text-align: right;\n",
       "  white-space: pre-wrap;\n",
       "}\n",
       "</style>\n",
       "<small>shape: (1_655_120, 2)</small><table border=\"1\" class=\"dataframe\"><thead><tr><th>user_id</th><th>item_id</th></tr><tr><td>i64</td><td>i64</td></tr></thead><tbody><tr><td>1</td><td>7363</td></tr><tr><td>1</td><td>73770</td></tr><tr><td>1</td><td>75700</td></tr><tr><td>1</td><td>81204</td></tr><tr><td>1</td><td>110249</td></tr><tr><td>&hellip;</td><td>&hellip;</td></tr><tr><td>183403</td><td>235097</td></tr><tr><td>183403</td><td>267411</td></tr><tr><td>183403</td><td>273646</td></tr><tr><td>183403</td><td>288305</td></tr><tr><td>183403</td><td>322029</td></tr></tbody></table></div>"
      ],
      "text/plain": [
       "shape: (1_655_120, 2)\n",
       "┌─────────┬─────────┐\n",
       "│ user_id ┆ item_id │\n",
       "│ ---     ┆ ---     │\n",
       "│ i64     ┆ i64     │\n",
       "╞═════════╪═════════╡\n",
       "│ 1       ┆ 7363    │\n",
       "│ 1       ┆ 73770   │\n",
       "│ 1       ┆ 75700   │\n",
       "│ 1       ┆ 81204   │\n",
       "│ 1       ┆ 110249  │\n",
       "│ …       ┆ …       │\n",
       "│ 183403  ┆ 235097  │\n",
       "│ 183403  ┆ 267411  │\n",
       "│ 183403  ┆ 273646  │\n",
       "│ 183403  ┆ 288305  │\n",
       "│ 183403  ┆ 322029  │\n",
       "└─────────┴─────────┘"
      ]
     },
     "execution_count": 14,
     "metadata": {},
     "output_type": "execute_result"
    }
   ],
   "source": [
    "test_pairs = pl.read_csv('test_pairs.csv')\n",
    "test_pairs"
   ]
  },
  {
   "cell_type": "code",
   "execution_count": 20,
   "metadata": {},
   "outputs": [],
   "source": [
    "als_predict = (model.user_factors[test_pairs['user_id']] * \n",
    "               model.item_factors[test_pairs['item_id']]).sum(axis=1)"
   ]
  },
  {
   "cell_type": "code",
   "execution_count": 22,
   "metadata": {},
   "outputs": [],
   "source": [
    "test_pairs.with_columns(predict=als_predict)"
   ]
  },
  {
   "cell_type": "code",
   "execution_count": 24,
   "metadata": {},
   "outputs": [
    {
     "data": {
      "text/html": [
       "<div><style>\n",
       ".dataframe > thead > tr,\n",
       ".dataframe > tbody > tr {\n",
       "  text-align: right;\n",
       "  white-space: pre-wrap;\n",
       "}\n",
       "</style>\n",
       "<small>shape: (1_655_120, 2)</small><table border=\"1\" class=\"dataframe\"><thead><tr><th>user_id</th><th>item_id</th></tr><tr><td>i64</td><td>i64</td></tr></thead><tbody><tr><td>1</td><td>7363</td></tr><tr><td>1</td><td>73770</td></tr><tr><td>1</td><td>75700</td></tr><tr><td>1</td><td>81204</td></tr><tr><td>1</td><td>110249</td></tr><tr><td>&hellip;</td><td>&hellip;</td></tr><tr><td>183403</td><td>235097</td></tr><tr><td>183403</td><td>267411</td></tr><tr><td>183403</td><td>273646</td></tr><tr><td>183403</td><td>288305</td></tr><tr><td>183403</td><td>322029</td></tr></tbody></table></div>"
      ],
      "text/plain": [
       "shape: (1_655_120, 2)\n",
       "┌─────────┬─────────┐\n",
       "│ user_id ┆ item_id │\n",
       "│ ---     ┆ ---     │\n",
       "│ i64     ┆ i64     │\n",
       "╞═════════╪═════════╡\n",
       "│ 1       ┆ 7363    │\n",
       "│ 1       ┆ 73770   │\n",
       "│ 1       ┆ 75700   │\n",
       "│ 1       ┆ 81204   │\n",
       "│ 1       ┆ 110249  │\n",
       "│ …       ┆ …       │\n",
       "│ 183403  ┆ 235097  │\n",
       "│ 183403  ┆ 267411  │\n",
       "│ 183403  ┆ 273646  │\n",
       "│ 183403  ┆ 288305  │\n",
       "│ 183403  ┆ 322029  │\n",
       "└─────────┴─────────┘"
      ]
     },
     "execution_count": 24,
     "metadata": {},
     "output_type": "execute_result"
    }
   ],
   "source": [
    "test_pairs"
   ]
  },
  {
   "cell_type": "code",
   "execution_count": null,
   "metadata": {},
   "outputs": [],
   "source": []
  }
 ],
 "metadata": {
  "kernelspec": {
   "display_name": "Python 3 (ipykernel)",
   "language": "python",
   "name": "python3"
  },
  "language_info": {
   "codemirror_mode": {
    "name": "ipython",
    "version": 3
   },
   "file_extension": ".py",
   "mimetype": "text/x-python",
   "name": "python",
   "nbconvert_exporter": "python",
   "pygments_lexer": "ipython3",
   "version": "3.12.7"
  }
 },
 "nbformat": 4,
 "nbformat_minor": 4
}
