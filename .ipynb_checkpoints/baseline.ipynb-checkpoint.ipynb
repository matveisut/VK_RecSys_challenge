{
 "cells": [
  {
   "cell_type": "code",
   "execution_count": 1,
   "metadata": {},
   "outputs": [],
   "source": [
    "from scipy.sparse import csr_matrix\n",
    "import polars as pl\n",
    "import implicit\n",
    "import matplotlib.pyplot as plt"
   ]
  },
  {
   "cell_type": "code",
   "execution_count": 4,
   "metadata": {},
   "outputs": [],
   "source": [
    "train = pl.scan_parquet(\"../train_interactions.parquet\")"
   ]
  },
  {
   "cell_type": "code",
   "execution_count": 6,
   "metadata": {},
   "outputs": [
    {
     "data": {
      "text/html": [
       "<i>naive plan: (run <b>LazyFrame.explain(optimized=True)</b> to see the optimized plan)</i>\n",
       "    <p></p>\n",
       "    <div> WITH_COLUMNS:<p></p> [[(col(\"like\")) - (col(\"dislike\"))].alias(\"weight\")] <p></p>  Parquet SCAN [../train_interactions.parquet]<p></p>  PROJECT */7 COLUMNS</div>"
      ],
      "text/plain": [
       "<LazyFrame at 0x151C7BCD400>"
      ]
     },
     "execution_count": 6,
     "metadata": {},
     "output_type": "execute_result"
    }
   ],
   "source": [
    "train = train.with_columns(weight=pl.col(\"like\") - pl.col(\"dislike\"))\n",
    "train"
   ]
  },
  {
   "cell_type": "code",
   "execution_count": 8,
   "metadata": {},
   "outputs": [
    {
     "data": {
      "text/html": [
       "<i>naive plan: (run <b>LazyFrame.explain(optimized=True)</b> to see the optimized plan)</i>\n",
       "    <p></p>\n",
       "    <div> SELECT [col(\"user_id\"), col(\"item_id\"), col(\"timespent\"), col(\"share\"), col(\"weight\")] FROM<p></p>   WITH_COLUMNS:<p></p>   [[(col(\"like\")) - (col(\"dislike\"))].alias(\"weight\")] <p></p>    Parquet SCAN [../train_interactions.parquet]<p></p>    PROJECT */7 COLUMNS</div>"
      ],
      "text/plain": [
       "<LazyFrame at 0x151C752E5D0>"
      ]
     },
     "execution_count": 8,
     "metadata": {},
     "output_type": "execute_result"
    }
   ],
   "source": [
    "train = train.select(\"user_id\", \"item_id\",\"timespent\", \"share\", \"weight\")\n",
    "train"
   ]
  },
  {
   "cell_type": "code",
   "execution_count": 10,
   "metadata": {},
   "outputs": [
    {
     "data": {
      "text/html": [
       "<div><style>\n",
       ".dataframe > thead > tr,\n",
       ".dataframe > tbody > tr {\n",
       "  text-align: right;\n",
       "  white-space: pre-wrap;\n",
       "}\n",
       "</style>\n",
       "<small>shape: (145_667_282, 5)</small><table border=\"1\" class=\"dataframe\"><thead><tr><th>user_id</th><th>item_id</th><th>timespent</th><th>share</th><th>weight</th></tr><tr><td>u32</td><td>u32</td><td>u8</td><td>u8</td><td>u8</td></tr></thead><tbody><tr><td>3810</td><td>138979</td><td>6</td><td>0</td><td>0</td></tr><tr><td>101874</td><td>331160</td><td>6</td><td>0</td><td>0</td></tr><tr><td>150332</td><td>73709</td><td>11</td><td>0</td><td>0</td></tr><tr><td>4982</td><td>189745</td><td>5</td><td>0</td><td>0</td></tr><tr><td>149601</td><td>289643</td><td>1</td><td>1</td><td>0</td></tr><tr><td>&hellip;</td><td>&hellip;</td><td>&hellip;</td><td>&hellip;</td><td>&hellip;</td></tr><tr><td>10718</td><td>93558</td><td>7</td><td>0</td><td>0</td></tr><tr><td>119164</td><td>60206</td><td>60</td><td>0</td><td>0</td></tr><tr><td>171518</td><td>99323</td><td>70</td><td>0</td><td>0</td></tr><tr><td>109533</td><td>74203</td><td>1</td><td>0</td><td>0</td></tr><tr><td>129851</td><td>138079</td><td>15</td><td>0</td><td>0</td></tr></tbody></table></div>"
      ],
      "text/plain": [
       "shape: (145_667_282, 5)\n",
       "┌─────────┬─────────┬───────────┬───────┬────────┐\n",
       "│ user_id ┆ item_id ┆ timespent ┆ share ┆ weight │\n",
       "│ ---     ┆ ---     ┆ ---       ┆ ---   ┆ ---    │\n",
       "│ u32     ┆ u32     ┆ u8        ┆ u8    ┆ u8     │\n",
       "╞═════════╪═════════╪═══════════╪═══════╪════════╡\n",
       "│ 3810    ┆ 138979  ┆ 6         ┆ 0     ┆ 0      │\n",
       "│ 101874  ┆ 331160  ┆ 6         ┆ 0     ┆ 0      │\n",
       "│ 150332  ┆ 73709   ┆ 11        ┆ 0     ┆ 0      │\n",
       "│ 4982    ┆ 189745  ┆ 5         ┆ 0     ┆ 0      │\n",
       "│ 149601  ┆ 289643  ┆ 1         ┆ 1     ┆ 0      │\n",
       "│ …       ┆ …       ┆ …         ┆ …     ┆ …      │\n",
       "│ 10718   ┆ 93558   ┆ 7         ┆ 0     ┆ 0      │\n",
       "│ 119164  ┆ 60206   ┆ 60        ┆ 0     ┆ 0      │\n",
       "│ 171518  ┆ 99323   ┆ 70        ┆ 0     ┆ 0      │\n",
       "│ 109533  ┆ 74203   ┆ 1         ┆ 0     ┆ 0      │\n",
       "│ 129851  ┆ 138079  ┆ 15        ┆ 0     ┆ 0      │\n",
       "└─────────┴─────────┴───────────┴───────┴────────┘"
      ]
     },
     "execution_count": 10,
     "metadata": {},
     "output_type": "execute_result"
    }
   ],
   "source": [
    "train = train.collect()\n",
    "train"
   ]
  },
  {
   "cell_type": "code",
   "execution_count": 14,
   "metadata": {},
   "outputs": [
    {
     "data": {
      "text/html": [
       "<div><style>\n",
       ".dataframe > thead > tr,\n",
       ".dataframe > tbody > tr {\n",
       "  text-align: right;\n",
       "  white-space: pre-wrap;\n",
       "}\n",
       "</style>\n",
       "<small>shape: (2, 2)</small><table border=\"1\" class=\"dataframe\"><thead><tr><th>weight</th><th>count</th></tr><tr><td>u8</td><td>u32</td></tr></thead><tbody><tr><td>1</td><td>6788267</td></tr><tr><td>0</td><td>138821753</td></tr></tbody></table></div>"
      ],
      "text/plain": [
       "shape: (2, 2)\n",
       "┌────────┬───────────┐\n",
       "│ weight ┆ count     │\n",
       "│ ---    ┆ ---       │\n",
       "│ u8     ┆ u32       │\n",
       "╞════════╪═══════════╡\n",
       "│ 1      ┆ 6788267   │\n",
       "│ 0      ┆ 138821753 │\n",
       "└────────┴───────────┘"
      ]
     },
     "execution_count": 14,
     "metadata": {},
     "output_type": "execute_result"
    }
   ],
   "source": [
    "train = train.sql(\"\"\"\n",
    "  SELECT * \n",
    "  FROM self\n",
    "  WHERE weight <= 1\n",
    "\"\"\")\n",
    "train['weight'].value_counts()"
   ]
  },
  {
   "cell_type": "code",
   "execution_count": 15,
   "metadata": {},
   "outputs": [
    {
     "data": {
      "image/png": "[encoded data removed]",
      "text/plain": [
       "<Figure size 1000x600 with 1 Axes>"
      ]
     },
     "metadata": {},
     "output_type": "display_data"
    }
   ],
   "source": [
    "import seaborn as sns\n",
    "\n",
    "# Построение гистограммы с использованием seaborn\n",
    "plt.figure(figsize=(10, 6))\n",
    "sns.histplot(x='timespent', data = train.sample(9999999).sql(\"\"\"\n",
    "  SELECT * FROM self WHERE timespent < 150 ORDER BY timespent DESC \n",
    "\"\"\"), binwidth=3, hue = 'weight', palette = 'Accent', multiple=\"stack\")\n",
    "\n",
    "plt.xlabel(\"time_of_view\")\n",
    "plt.ylabel(\"Count\")\n",
    "plt.title(\"Distribution of Counts Across Categories\")\n",
    "plt.show()"
   ]
  },
  {
   "cell_type": "code",
   "execution_count": null,
   "metadata": {},
   "outputs": [],
   "source": [
    "\n"
   ]
  },
  {
   "cell_type": "code",
   "execution_count": null,
   "metadata": {},
   "outputs": [],
   "source": []
  },
  {
   "cell_type": "code",
   "execution_count": 18,
   "metadata": {},
   "outputs": [],
   "source": [
    "items_meta = pl.read_parquet(\"items_meta.parquet\")\n",
    "users_meta = pl.read_parquet(\"users_meta.parquet\")\n",
    "n_items = items_meta[\"item_id\"].max() + 1\n",
    "n_users = users_meta[\"user_id\"].max() + 1\n",
    "\n",
    "#нужно посчитать соотношение лайков дизлайков у каждого пользователя и видео"
   ]
  },
  {
   "cell_type": "code",
   "execution_count": 78,
   "metadata": {},
   "outputs": [],
   "source": [
    "#train = csr_matrix((train[\"weight\"], \n",
    "                   # (train[\"user_id\"].to_numpy(), \n",
    "                   # train[\"item_id\"].to_numpy())),\n",
    "                   #shape=(n_users, n_items))"
   ]
  },
  {
   "cell_type": "code",
   "execution_count": 79,
   "metadata": {
    "scrolled": true
   },
   "outputs": [],
   "source": [
    "#model = implicit.als.AlternatingLeastSquares(factors=16, \n",
    "                                           #  iterations=10, \n",
    "                                           #  regularization=1, \n",
    "                                           #  alpha=100,\n",
    "                                           #  calculate_training_loss=True)\n",
    "#model.fit(train)"
   ]
  },
  {
   "cell_type": "code",
   "execution_count": 80,
   "metadata": {},
   "outputs": [],
   "source": [
    "#test_pairs = pl.read_csv('test_pairs.csv')\n",
    "#test_pairs"
   ]
  },
  {
   "cell_type": "code",
   "execution_count": 81,
   "metadata": {},
   "outputs": [],
   "source": [
    "#als_predict = (model.user_factors[test_pairs['user_id']] * \n",
    "#               model.item_factors[test_pairs['item_id']]).sum(axis=1)"
   ]
  },
  {
   "cell_type": "code",
   "execution_count": 82,
   "metadata": {},
   "outputs": [],
   "source": [
    "#test_pairs.with_columns(predict=als_predict).write_csv('sample_submission.csv')"
   ]
  },
  {
   "cell_type": "code",
   "execution_count": null,
   "metadata": {},
   "outputs": [],
   "source": []
  },
  {
   "cell_type": "code",
   "execution_count": null,
   "metadata": {},
   "outputs": [],
   "source": []
  }
 ],
 "metadata": {
  "kernelspec": {
   "display_name": "Python 3 (ipykernel)",
   "language": "python",
   "name": "python3"
  },
  "language_info": {
   "codemirror_mode": {
    "name": "ipython",
    "version": 3
   },
   "file_extension": ".py",
   "mimetype": "text/x-python",
   "name": "python",
   "nbconvert_exporter": "python",
   "pygments_lexer": "ipython3",
   "version": "3.12.7"
  }
 },
 "nbformat": 4,
 "nbformat_minor": 4
}
